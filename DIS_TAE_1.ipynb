{
  "nbformat": 4,
  "nbformat_minor": 0,
  "metadata": {
    "colab": {
      "provenance": [],
      "authorship_tag": "ABX9TyNNnAqHbOW2qiBsTN7Xo02q",
      "include_colab_link": true
    },
    "kernelspec": {
      "name": "python3",
      "display_name": "Python 3"
    },
    "language_info": {
      "name": "python"
    }
  },
  "cells": [
    {
      "cell_type": "markdown",
      "metadata": {
        "id": "view-in-github",
        "colab_type": "text"
      },
      "source": [
        "<a href=\"https://colab.research.google.com/github/AmanAD22024/My_Projects/blob/main/DIS_TAE_1.ipynb\" target=\"_parent\"><img src=\"https://colab.research.google.com/assets/colab-badge.svg\" alt=\"Open In Colab\"/></a>"
      ]
    },
    {
      "cell_type": "code",
      "source": [
        "import socket\n",
        "\n",
        "# Step 1: Normal DNS resolver\n",
        "def real_dns(domain):\n",
        "    try:\n",
        "        return socket.gethostbyname(domain)\n",
        "    except:\n",
        "        return \"0.0.0.0\"  # if domain not real\n",
        "\n",
        "# Step 2: Attacker's fake DNS records\n",
        "fake_dns = {\n",
        "    \"example.com\": \"192.168.100.50\",\n",
        "    \"bank.com\": \"192.168.100.66\",\n",
        "    \"google.com\": \"192.168.100.77\"\n",
        "}\n",
        "\n",
        "# Step 3: Fake DNS resolver\n",
        "def fake_dns_resolver(domain):\n",
        "    if domain in fake_dns:\n",
        "        return fake_dns[domain]  # attacker returns fake IP\n",
        "    else:\n",
        "        return real_dns(domain)  # fallback to real\n",
        "\n",
        "print(\"---- DNS Spoofing Simulation ----\")\n",
        "\n",
        "# User input for number of users\n",
        "num_users = int(input(\"Enter number of users: \"))\n",
        "users = []\n",
        "\n",
        "for i in range(num_users):\n",
        "    name = input(f\"Enter User {i+1} name: \")\n",
        "    users.append(name)\n",
        "\n",
        "# User input for domains to check\n",
        "num_domains = int(input(\"Enter the NUMBER of domains to query: \")) # Clarified prompt\n",
        "domains = []\n",
        "for i in range(num_domains):\n",
        "    domain = input(f\"Enter domain {i+1}: \")\n",
        "    domains.append(domain)\n",
        "\n",
        "# Simulation\n",
        "for user in users:\n",
        "    for domain in domains:\n",
        "        real_ip = real_dns(domain)\n",
        "        spoofed_ip = fake_dns_resolver(domain)\n",
        "\n",
        "        print(f\"\\n{user} queried {domain}\")\n",
        "        print(f\" Real DNS: {real_ip}\")\n",
        "        print(f\" Fake DNS: {spoofed_ip}\")\n",
        "\n",
        "        # Step 5: Defense check (trusted DNSSEC validation)\n",
        "        if real_ip != spoofed_ip:\n",
        "            print(f\" ⚠️ ALERT: Possible DNS Spoofing for {domain}\")\n",
        "        else:\n",
        "            print(\" ✅ Safe\")"
      ],
      "metadata": {
        "id": "lAHfiPEqGHRh",
        "outputId": "8c5fe1d4-a4e2-4b60-f391-42af93e672ce",
        "colab": {
          "base_uri": "https://localhost:8080/"
        }
      },
      "execution_count": null,
      "outputs": [
        {
          "output_type": "stream",
          "name": "stdout",
          "text": [
            "---- DNS Spoofing Simulation ----\n",
            "Enter number of users: 2\n",
            "Enter User 1 name: aman\n",
            "Enter User 2 name: ishant\n",
            "Enter the NUMBER of domains to query: 2\n",
            "Enter domain 1: google.com\n",
            "Enter domain 2: wikipedia.org\n",
            "\n",
            "aman queried google.com\n",
            " Real DNS: 172.217.214.102\n",
            " Fake DNS: 192.168.100.77\n",
            " ⚠️ ALERT: Possible DNS Spoofing for google.com\n",
            "\n",
            "aman queried wikipedia.org\n",
            " Real DNS: 208.80.153.224\n",
            " Fake DNS: 208.80.153.224\n",
            " ✅ Safe\n",
            "\n",
            "ishant queried google.com\n",
            " Real DNS: 172.217.214.102\n",
            " Fake DNS: 192.168.100.77\n",
            " ⚠️ ALERT: Possible DNS Spoofing for google.com\n",
            "\n",
            "ishant queried wikipedia.org\n",
            " Real DNS: 208.80.153.224\n",
            " Fake DNS: 208.80.153.224\n",
            " ✅ Safe\n"
          ]
        }
      ]
    }
  ]
}